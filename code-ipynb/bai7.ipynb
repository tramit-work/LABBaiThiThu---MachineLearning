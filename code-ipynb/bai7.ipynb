{
  "nbformat": 4,
  "nbformat_minor": 0,
  "metadata": {
    "colab": {
      "provenance": []
    },
    "kernelspec": {
      "name": "python3",
      "display_name": "Python 3"
    },
    "language_info": {
      "name": "python"
    }
  },
  "cells": [
    {
      "cell_type": "code",
      "execution_count": 19,
      "metadata": {
        "id": "Ltgd0WAWnBHh"
      },
      "outputs": [],
      "source": [
        "import time\n",
        "from sklearn import datasets\n",
        "from sklearn.model_selection import train_test_split\n",
        "from sklearn.svm import SVC\n",
        "from sklearn.metrics import accuracy_score"
      ]
    },
    {
      "cell_type": "code",
      "source": [
        "digits = datasets.load_digits()"
      ],
      "metadata": {
        "id": "DRWHd9b6njld"
      },
      "execution_count": 20,
      "outputs": []
    },
    {
      "cell_type": "code",
      "source": [
        "X_train, X_test, y_train, y_test = train_test_split(digits.data, digits.target, test_size=0.3, random_state=42)"
      ],
      "metadata": {
        "id": "j9BLPZ22nmSI"
      },
      "execution_count": 21,
      "outputs": []
    },
    {
      "cell_type": "code",
      "source": [
        "def train_and_evaluate(kernel_type):\n",
        "    svm_model = SVC(kernel=kernel_type)\n",
        "\n",
        "    start_time = time.time()\n",
        "    svm_model.fit(X_train, y_train)\n",
        "    training_time = time.time() - start_time\n",
        "\n",
        "    y_pred = svm_model.predict(X_test)\n",
        "\n",
        "    accuracy = accuracy_score(y_test, y_pred)\n",
        "\n",
        "    return accuracy, training_time\n"
      ],
      "metadata": {
        "id": "qqNTTdVFnooV"
      },
      "execution_count": 22,
      "outputs": []
    },
    {
      "cell_type": "code",
      "source": [
        "kernels = ['linear', 'rbf', 'poly']\n",
        "results = {}"
      ],
      "metadata": {
        "id": "KllDS26HnwJG"
      },
      "execution_count": 23,
      "outputs": []
    },
    {
      "cell_type": "code",
      "source": [
        "for kernel in kernels:\n",
        "    accuracy, training_time = train_and_evaluate(kernel)\n",
        "    results[kernel] = {'accuracy': accuracy, 'training_time': training_time}"
      ],
      "metadata": {
        "id": "vrqm4_VYorcg"
      },
      "execution_count": 24,
      "outputs": []
    },
    {
      "cell_type": "code",
      "source": [
        "for kernel in kernels:\n",
        "    print(f\"Kernel: {kernel}\")\n",
        "    print(f\"Độ chính xác: {results[kernel]['accuracy'] * 100:.2f}%\")\n",
        "    print(f\"Thời gian huấn luyện: {results[kernel]['training_time']:.4f} giây\\n\")"
      ],
      "metadata": {
        "colab": {
          "base_uri": "https://localhost:8080/"
        },
        "id": "u1gSKyaPr9k4",
        "outputId": "b910e64e-4416-4787-c8ad-ec4cb67a4929"
      },
      "execution_count": 25,
      "outputs": [
        {
          "output_type": "stream",
          "name": "stdout",
          "text": [
            "Kernel: linear\n",
            "Độ chính xác: 97.96%\n",
            "Thời gian huấn luyện: 0.0849 giây\n",
            "\n",
            "Kernel: rbf\n",
            "Độ chính xác: 98.70%\n",
            "Thời gian huấn luyện: 0.0909 giây\n",
            "\n",
            "Kernel: poly\n",
            "Độ chính xác: 98.89%\n",
            "Thời gian huấn luyện: 0.0734 giây\n",
            "\n"
          ]
        }
      ]
    }
  ]
}